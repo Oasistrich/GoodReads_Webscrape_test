{
 "cells": [
  {
   "cell_type": "code",
   "execution_count": null,
   "metadata": {},
   "outputs": [],
   "source": [
    "#To Dos:\n",
    "#1) Investigate ratings that are being dropped (looks like pulling 26 ratings, but 30 of the other components)\n",
    "#2) Attempt to use Selenium to pull full page (Should be closer to 50 rows per page)\n",
    "#3) Attempt to pull additional pages\n",
    "#3.5) Attempt to keep formatting (bolding/crossed-out text/italics) for ReviewerText\n",
    "#4) Attempt to pull ReviewerProfile__Meta to provide the # of reviews by each reviewer\n",
    "#5) If Selenium and beautiful soup fail, try below code option:\n",
    "\n",
    "#Try below code to see if that will pull full page\n",
    "#from requests_html import HTMLSession\n",
    "\n",
    "#session = HTMLSession()\n",
    "#r = session.get('https://www.pullandbear.com/rs/man/sale-c1030036006.html')\n",
    "#r.html.render()\n",
    "\n",
    "#print(r.html.html)"
   ]
  },
  {
   "cell_type": "code",
   "execution_count": 4,
   "metadata": {},
   "outputs": [],
   "source": [
    "import requests\n",
    "import os\n",
    "from bs4 import BeautifulSoup\n",
    "import pandas as pd\n",
    "import time\n",
    "from selenium import webdriver\n",
    "from IPython.display import display, Image"
   ]
  },
  {
   "cell_type": "code",
   "execution_count": 5,
   "metadata": {},
   "outputs": [],
   "source": [
    "driver = webdriver.Chrome()\n",
    "title = driver.title"
   ]
  },
  {
   "cell_type": "code",
   "execution_count": 6,
   "metadata": {},
   "outputs": [
    {
     "name": "stdout",
     "output_type": "stream",
     "text": [
      "200\n"
     ]
    }
   ],
   "source": [
    "#response = requests.get('https://www.goodreads.com/book/show/59366244-i-m-glad-my-mom-died') \n",
    "for i in range(0,1000,100):\n",
    "    #McCurdy - I'm Glad my Mom Died\n",
    "    #response = requests.get('https://www.goodreads.com/book/show/59364173/reviews?reviewFilters={%22workId%22:%22kca://work/amzn1.gr.work.v3.JeHZlXvg2e1mD9_k%22,%22after%22:%22MjYwMTYsMTY2MDc1MjY5MjY2Mw%22}')\n",
    "    #Hunger - Roxanne Gay\n",
    "    response = requests.get('https://www.goodreads.com/book/show/26074156/reviews?reviewFilters={%22workId%22:%22kca://work/amzn1.gr.work.v1.FSsY8ohzUZCeEXoBsiEYqw%22,%22after%22:%22NjgxNSwxNTAwNjU3MjE4NDI1%22}')\n",
    "print(response.status_code)\n",
    "\n",
    "time.sleep(6)\n",
    "\n",
    "doc = BeautifulSoup(response.text, 'html.parser')"
   ]
  },
  {
   "cell_type": "code",
   "execution_count": 7,
   "metadata": {},
   "outputs": [],
   "source": [
    "df = pd.DataFrame(columns=['ReviewDate','ReviewerName','Rating','ReviewText','ReviewerMeta'])"
   ]
  },
  {
   "cell_type": "code",
   "execution_count": 8,
   "metadata": {},
   "outputs": [
    {
     "name": "stdout",
     "output_type": "stream",
     "text": [
      "<article aria-label=\"Review by Debbie\" class=\"ReviewCard\"><div class=\"ReviewCard__profile\"><div class=\"ReviewerProfile ReviewerProfile--medium\"><section class=\"ReviewerProfile__avatar\"><a as=\"div\" class=\"Avatar Avatar--medium\" href=\"https://www.goodreads.com/user/show/8665845-debbie\"><img alt=\"Profile Image for Debbie.\" class=\"Avatar__image\" data-testid=\"image\" src=\"https://i.gr-assets.com/images/S/compressed.photo.goodreads.com/users/1334166735i/8665845._UY200_CR33,0,200,200_.jpg\"/></a></section><section class=\"ReviewerProfile__info\"><span class=\"Text Text__title4\"><div class=\"ReviewerProfile__name\" data-testid=\"name\"><a href=\"https://www.goodreads.com/user/show/8665845-debbie\">Debbie</a></div></span><span class=\"Text Text__body3 Text__subdued\"><div class=\"ReviewerProfile__meta\"><span>479 reviews</span><span><span>3,622 followers</span></span></div></span></section><div class=\"ReviewerProfile__follow\" data-testid=\"follow\"></div></div></div><section class=\"ReviewCard__content\"><section class=\"ReviewCard__row\"><div class=\"ShelfStatus\"><span aria-label=\"Rating 3 out of 5\" class=\"RatingStars RatingStars__small\" role=\"img\"><span class=\"baseClass RatingStar--small\"><svg role=\"presentation\" viewbox=\"0 0 24 24\"><path class=\"RatingStar__fill\" d=\"M24 9.63469C24 9.35683 23.7747 9.13158 23.4969 9.13158H15.0892L12.477 1.34327C12.4269 1.19375 12.3095 1.0764 12.16 1.02625C11.8966 0.937894 11.6114 1.07983 11.523 1.34327L8.91088 9.13158H0.503157C0.33975 9.13158 0.186521 9.21094 0.0922364 9.3444C-0.0680877 9.57134 -0.0140806 9.88529 0.212865 10.0456L7.00408 14.8432L4.40172 22.6166C4.35092 22.7683 4.37534 22.9352 4.46749 23.066C4.6275 23.2932 4.94137 23.3476 5.16853 23.1876L12 18.3758L18.8317 23.183C18.9625 23.2751 19.1293 23.2994 19.281 23.2486C19.5445 23.1604 19.6865 22.8752 19.5983 22.6117L16.996 14.8432L23.7872 10.0456C23.9206 9.95133 24 9.7981 24 9.63469Z\"></path></svg></span><span class=\"baseClass RatingStar--small\"><svg role=\"presentation\" viewbox=\"0 0 24 24\"><path class=\"RatingStar__fill\" d=\"M24 9.63469C24 9.35683 23.7747 9.13158 23.4969 9.13158H15.0892L12.477 1.34327C12.4269 1.19375 12.3095 1.0764 12.16 1.02625C11.8966 0.937894 11.6114 1.07983 11.523 1.34327L8.91088 9.13158H0.503157C0.33975 9.13158 0.186521 9.21094 0.0922364 9.3444C-0.0680877 9.57134 -0.0140806 9.88529 0.212865 10.0456L7.00408 14.8432L4.40172 22.6166C4.35092 22.7683 4.37534 22.9352 4.46749 23.066C4.6275 23.2932 4.94137 23.3476 5.16853 23.1876L12 18.3758L18.8317 23.183C18.9625 23.2751 19.1293 23.2994 19.281 23.2486C19.5445 23.1604 19.6865 22.8752 19.5983 22.6117L16.996 14.8432L23.7872 10.0456C23.9206 9.95133 24 9.7981 24 9.63469Z\"></path></svg></span><span class=\"baseClass RatingStar--small\"><svg role=\"presentation\" viewbox=\"0 0 24 24\"><path class=\"RatingStar__fill\" d=\"M24 9.63469C24 9.35683 23.7747 9.13158 23.4969 9.13158H15.0892L12.477 1.34327C12.4269 1.19375 12.3095 1.0764 12.16 1.02625C11.8966 0.937894 11.6114 1.07983 11.523 1.34327L8.91088 9.13158H0.503157C0.33975 9.13158 0.186521 9.21094 0.0922364 9.3444C-0.0680877 9.57134 -0.0140806 9.88529 0.212865 10.0456L7.00408 14.8432L4.40172 22.6166C4.35092 22.7683 4.37534 22.9352 4.46749 23.066C4.6275 23.2932 4.94137 23.3476 5.16853 23.1876L12 18.3758L18.8317 23.183C18.9625 23.2751 19.1293 23.2994 19.281 23.2486C19.5445 23.1604 19.6865 22.8752 19.5983 22.6117L16.996 14.8432L23.7872 10.0456C23.9206 9.95133 24 9.7981 24 9.63469Z\"></path></svg></span><span class=\"baseClass RatingStar--small\"><svg role=\"presentation\" viewbox=\"0 0 24 24\"><defs><clippath id=\"clip_RatingStar_undefined0small\"><path d=\"M24 9.63469C24 9.35683 23.7747 9.13158 23.4969 9.13158H15.0892L12.477 1.34327C12.4269 1.19375 12.3095 1.0764 12.16 1.02625C11.8966 0.937894 11.6114 1.07983 11.523 1.34327L8.91088 9.13158H0.503157C0.33975 9.13158 0.186521 9.21094 0.0922364 9.3444C-0.0680877 9.57134 -0.0140806 9.88529 0.212865 10.0456L7.00408 14.8432L4.40172 22.6166C4.35092 22.7683 4.37534 22.9352 4.46749 23.066C4.6275 23.2932 4.94137 23.3476 5.16853 23.1876L12 18.3758L18.8317 23.183C18.9625 23.2751 19.1293 23.2994 19.281 23.2486C19.5445 23.1604 19.6865 22.8752 19.5983 22.6117L16.996 14.8432L23.7872 10.0456C23.9206 9.95133 24 9.7981 24 9.63469Z\"></path></clippath><path d=\"M24 9.63469C24 9.35683 23.7747 9.13158 23.4969 9.13158H15.0892L12.477 1.34327C12.4269 1.19375 12.3095 1.0764 12.16 1.02625C11.8966 0.937894 11.6114 1.07983 11.523 1.34327L8.91088 9.13158H0.503157C0.33975 9.13158 0.186521 9.21094 0.0922364 9.3444C-0.0680877 9.57134 -0.0140806 9.88529 0.212865 10.0456L7.00408 14.8432L4.40172 22.6166C4.35092 22.7683 4.37534 22.9352 4.46749 23.066C4.6275 23.2932 4.94137 23.3476 5.16853 23.1876L12 18.3758L18.8317 23.183C18.9625 23.2751 19.1293 23.2994 19.281 23.2486C19.5445 23.1604 19.6865 22.8752 19.5983 22.6117L16.996 14.8432L23.7872 10.0456C23.9206 9.95133 24 9.7981 24 9.63469Z\" id=\"path_RatingStar_undefined0small\"></path></defs><use class=\"RatingStar__backgroundFill\" clip-path=\"url(#clip_RatingStar_undefined0small)\" href=\"#path_RatingStar_undefined0small\"></use><path class=\"RatingStar__fill\"></path></svg></span><span class=\"baseClass RatingStar--small\"><svg role=\"presentation\" viewbox=\"0 0 24 24\"><defs><clippath id=\"clip_RatingStar_undefined-1small\"><path d=\"M24 9.63469C24 9.35683 23.7747 9.13158 23.4969 9.13158H15.0892L12.477 1.34327C12.4269 1.19375 12.3095 1.0764 12.16 1.02625C11.8966 0.937894 11.6114 1.07983 11.523 1.34327L8.91088 9.13158H0.503157C0.33975 9.13158 0.186521 9.21094 0.0922364 9.3444C-0.0680877 9.57134 -0.0140806 9.88529 0.212865 10.0456L7.00408 14.8432L4.40172 22.6166C4.35092 22.7683 4.37534 22.9352 4.46749 23.066C4.6275 23.2932 4.94137 23.3476 5.16853 23.1876L12 18.3758L18.8317 23.183C18.9625 23.2751 19.1293 23.2994 19.281 23.2486C19.5445 23.1604 19.6865 22.8752 19.5983 22.6117L16.996 14.8432L23.7872 10.0456C23.9206 9.95133 24 9.7981 24 9.63469Z\"></path></clippath><path d=\"M24 9.63469C24 9.35683 23.7747 9.13158 23.4969 9.13158H15.0892L12.477 1.34327C12.4269 1.19375 12.3095 1.0764 12.16 1.02625C11.8966 0.937894 11.6114 1.07983 11.523 1.34327L8.91088 9.13158H0.503157C0.33975 9.13158 0.186521 9.21094 0.0922364 9.3444C-0.0680877 9.57134 -0.0140806 9.88529 0.212865 10.0456L7.00408 14.8432L4.40172 22.6166C4.35092 22.7683 4.37534 22.9352 4.46749 23.066C4.6275 23.2932 4.94137 23.3476 5.16853 23.1876L12 18.3758L18.8317 23.183C18.9625 23.2751 19.1293 23.2994 19.281 23.2486C19.5445 23.1604 19.6865 22.8752 19.5983 22.6117L16.996 14.8432L23.7872 10.0456C23.9206 9.95133 24 9.7981 24 9.63469Z\" id=\"path_RatingStar_undefined-1small\"></path></defs><use class=\"RatingStar__backgroundFill\" clip-path=\"url(#clip_RatingStar_undefined-1small)\" href=\"#path_RatingStar_undefined-1small\"></use><path class=\"RatingStar__fill\"></path></svg></span></span></div><span class=\"Text Text__body3\"><a href=\"https://www.goodreads.com/review/show/1532579595\">March 29, 2018</a></span></section><section class=\"ReviewText\"><section class=\"ReviewText__content\" dir=\"auto\"><div class=\"TruncatedContent\" tabindex=\"-1\"><div class=\"TruncatedContent__text TruncatedContent__text--large\" data-testid=\"contentContainer\" tabindex=\"-1\"><span class=\"Formatted\">Really torn about this one. On the one hand, this is an amazingly honest account of Roxane Gay's life with an unruly body, as she calls it, which developed after she was gang raped at 12. She ate and ate so that she could get big enough to build a fortress around herself.<br/><br/>On the other hand, the book fell short for me. It was repetitive, for one, although I do think some of the repetition was purposeful--a stylistic choice. The language, to me, was dull. Plus there was nothing new on the subject of obesity or the politics surrounding it. The tone was understated--some anger and sadness underlying her words--yet at the same time it felt strangely unemotional. I didn't feel attached. But I will cut her all the slack in the world. She is revealing who she is, the struggles she has had--who am I to criticize the way she tells her story?<br/><br/>Racism, body shaming, and feminism are all touched upon, but the real story is about how the persistent PTSD led to loneliness, shame, hunger (of more than just food), and her weight problem. <br/><br/>She expresses a sort of quiet anger about the way obese people are perceived and treated. Gay has had to learn to live with her large body, which is on display to the world. She has had to navigate physically through a land that can't accommodate her size in many ways. Chairs are too small, for example, and if the chair has arms, watch out—they can give her bruises. Her body size makes everything hard. Short walks are too long and painful, stares are too hurtful, conversations are strained. Her recounting of endless humiliations is heartbreaking. Learning about the indignities the author has had to endure made me examine how I think of my body and others’. <br/><br/>As I said, most of what she said about obesity I already knew and almost all of the feelings that go with being overweight have been talked about before. However, her theme is groundbreaking in this way: Instead of talking about her food addiction, she talks about her body. It’s the first time I’ve heard the subject discussed solely from the point of view of body image. Seldom do people talk about their body. They talk about addiction and their difficulty in overcoming it. They talk about shame, self-control, self-loathing (which are all things that an unruly big body cause), but they don’t talk about how PTSD can change one’s body. In the past, I might have thought of PTSD as only affecting the head. Here we see how it blew away not only mind, but also her body. Eating allowed her to create a needed fortress while giving her comfort.<br/><br/>I found her description of getting a tattoo fascinating. And she shed some new light on the subject of bulimia. Her descriptions of her humiliations were the most vivid and well-described. When she got into general non-fiction rhetoric, my interest waned. I wanted everything to be first person. <br/><br/>Gang raped at 12. At 12! How do you survive that psychologically? The damage from the brutal attack will never disappear. She's in her 40s now, and she still thinks of her attackers, sometimes obsessing about the ringleader, who she thought was her friend. It is impossible to put myself in her shoes; what she endured is unimaginable. But one thing is sure--an experience like this will mess with your head in ways I can't begin to comprehend. <br/><br/>Gay's story is a sad one, but she isn't throwing a pity party. She just wants to be understood, and she gets kudos for her bravery in revealing such personal information, for showing her underbelly. I'm thinking that writing this was probably therapeutic for her. <br/><br/>How do you rate a memoir? Especially one where the author makes herself so vulnerable? I must remember that I'm not rating her life, just the way she tells her story. I admire Gay’s brilliance, bravery, and life, and I will continue to get my hands on everything she writes.<br/><br/>I wanted to love this one, I really did, especially since Gay's novel <a href=\"https://goodreads.com/book/show/18467818.An_Untamed_State\" rel=\"noopener\" title=\"An Untamed State by Roxane Gay\">An Untamed State</a> is one of my all-time favorites. No dull language in that one. It still haunts me. The novel was based on her experience of gang rape. I felt it was a way more powerful book than this memoir, but I'm not at all sorry I read this book. I liked it, just didn't love it.</span></div><div class=\"\"></div></div></section></section><section class=\"ReviewCard__tags\"><ul class=\"CollapsableList\"><span tabindex=\"-1\"><a class=\"Button Button--tag Button--medium\" href=\"https://www.goodreads.com/review/list/8665845?shelf=black-writers\"><span class=\"Button__labelItem\">black-writers</span></a><span tabindex=\"-1\"> </span><a class=\"Button Button--tag Button--medium\" href=\"https://www.goodreads.com/review/list/8665845?shelf=cool-chicks\"><span class=\"Button__labelItem\">cool-chicks</span></a><span tabindex=\"-1\"> </span><a class=\"Button Button--tag Button--medium\" href=\"https://www.goodreads.com/review/list/8665845?shelf=lgbtq\"><span class=\"Button__labelItem\">lgbtq</span></a></span><span tabindex=\"-1\"></span> <div class=\"Button__container\"><button aria-label=\"Show all items in the list\" class=\"Button Button--tag Button--medium\" type=\"button\"><span class=\"Button__labelItem\">...more</span></button></div></ul></section><footer class=\"SocialFooter\"><div class=\"SocialFooter__statsContainer\" data-testid=\"stats\"><div class=\"Button__container\"><button class=\"Button Button--inline Button--medium Button--subdued\" type=\"button\"><span class=\"Button__labelItem\">771 likes</span></button></div><div class=\"Button__container\"><button class=\"Button Button--inline Button--medium Button--subdued\" type=\"button\"><span class=\"Button__labelItem\">3 comments</span></button></div></div><div data-testid=\"actions\"><div class=\"SocialFooter__action\"><div class=\"Button__container\"><button aria-label=\"Review unliked. Press to like review\" class=\"Button Button--inline Button--medium\" type=\"button\"><span class=\"Button__labelItem\"><i class=\"Icon LikeIcon\"><svg viewbox=\"0 0 24 24\"><path d=\"M14.4813282,6.41129383 L14.586127,6.97676447 C14.5964421,7.03541935 14.6071117,7.09675198 14.6181364,7.1607667 L14.8551301,8.60363442 L17.440983,8.60363442 C18.1623576,8.60363442 18.8218187,9.01120377 19.1444272,9.65642083 L19.1708204,9.70920723 C19.4523479,10.2722622 19.4523479,10.9350066 19.1708204,11.4980616 L19.118034,11.6036344 L19.1708204,11.7092072 C19.4523479,12.2722622 19.4523479,12.9350066 19.1708204,13.4980616 L19.118034,13.6036344 L19.1708204,13.7092072 C19.4523479,14.2722622 19.4523479,14.9350066 19.1708204,15.4980616 L19,15.8397024 L19,16.1036344 C19,16.7361314 18.6701344,17.3185188 18.1373501,17.6453922 L17.9472136,17.7480616 C17.4795438,17.9818965 16.9638538,18.1036344 16.440983,18.1036344 L9.66834148,18.1034086 C9.31027068,18.6437214 8.696742,19 8,19 L6,19 C4.8954305,19 4,18.1045695 4,17 L4,12 C4,10.8954305 4.8954305,10 6,10 L8,10 C8.60249245,10 9.14276174,10.2664091 9.50943372,10.6878531 L9.58578644,10.6036344 L11,9.18942086 L11,6.75238209 C10.9999468,5.91477784 11.5910613,5.19356674 12.4123594,5.02913493 C13.3640475,4.8385978 14.290004,5.45563256 14.4813282,6.41129383 Z M8,11 L6,11 C5.44771525,11 5,11.4477153 5,12 L5,17 C5,17.5522847 5.44771525,18 6,18 L8,18 C8.55228475,18 9,17.5522847 9,17 L9,12 C9,11.4477153 8.55228475,11 8,11 Z M12.6086732,6.00967606 C12.2547259,6.08053973 11.9999771,6.39134718 12,6.75231863 L12,9.60363442 L10.2928932,11.3107412 L10.2060806,11.4098185 C10.0731645,11.583364 10,11.7968342 10,12.017848 L10,17.1036344 L16.440983,17.1036344 L16.6607228,17.0934175 C16.9522889,17.0662447 17.2369485,16.9851602 17.5,16.8536344 L17.5527864,16.8272412 L17.6506941,16.7693715 C17.8674461,16.6197561 18,16.3717633 18,16.1036344 L18,15.8397024 L18.0067325,15.7238578 C18.0201527,15.6087919 18.053502,15.4966304 18.1055728,15.3924888 L18.2763932,15.050848 L18.3281023,14.9274323 C18.4142842,14.67566 18.3970478,14.3977301 18.2763932,14.1564208 L18.2236068,14.050848 L18.1718977,13.9274323 C18.0857158,13.67566 18.1029522,13.3977301 18.2236068,13.1564208 L18.2763932,13.050848 L18.3281023,12.9274323 C18.4142842,12.67566 18.3970478,12.3977301 18.2763932,12.1564208 L18.2236068,12.050848 L18.1718977,11.9274323 C18.0857158,11.67566 18.1029522,11.3977301 18.2236068,11.1564208 L18.2763932,11.050848 L18.3281023,10.9274323 C18.4142842,10.67566 18.3970478,10.3977301 18.2763932,10.1564208 L18.25,10.1036344 L18.1931817,10.005781 C18.0268209,9.75657623 17.7455186,9.60363442 17.440983,9.60363442 L14,9.60363442 L13.6620695,7.50273613 C13.6377651,7.35933353 13.6150821,7.22808389 13.5940207,7.10898721 L13.5,6.60363442 L13.473045,6.50421954 C13.3512969,6.1515805 12.9846442,5.93440304 12.6086732,6.00967606 Z\"></path></svg></i></span><span class=\"Button__labelItem\">Like</span></button></div></div><div class=\"SocialFooter__action\"><div class=\"Button__container\"><button class=\"Button Button--inline Button--medium\" type=\"button\"><span class=\"Button__labelItem\"><i class=\"Icon CommentIcon\"><svg viewbox=\"0 0 24 24\"><path d=\"M12,17 C12.7131011,17 13.4012974,16.9086027 14.0495143,16.7387293 C14.5467025,16.6084349 15.8635311,17.1955251 18,18.5 L17.8664995,17.9551149 C17.4092673,16.0317788 17.3069991,14.928779 17.5596949,14.6461156 C18.4631295,13.6355413 19,12.3715104 19,11 C19,7.6862915 15.8659932,5 12,5 C8.13400675,5 5,7.6862915 5,11 C5,14.3137085 8.13400675,17 12,17 Z M13.796012,15.7713945 C13.2202627,15.9222769 12.6169095,16 12,16 C8.65501663,16 6,13.7242715 6,11 C6,8.27572854 8.65501663,6 12,6 C15.3449834,6 18,8.27572854 18,11 C18,12.0842731 17.5831655,13.1194459 16.8141738,13.9796336 C16.416188,14.4248172 16.3323351,15.1207601 16.5018219,16.2746263 L16.539079,16.5115665 C15.2664214,15.853575 14.4145404,15.6093014 13.796012,15.7713945 Z\"></path></svg></i></span><span class=\"Button__labelItem\"> Comment</span></button></div></div><div class=\"SocialFooter__action\" data-testid=\"overflow\"><div class=\"Button__container\"><button aria-label=\"More options, Menu pop up\" class=\"Button Button--transparent Button--medium Button--rounded\" type=\"button\"><span class=\"Button__labelItem\"><i class=\"Icon MoreIcon\"><svg viewbox=\"0 0 24 24\" xmlns=\"http://www.w3.org/2000/svg\"><path d=\"M6,10 C7.1045695,10 8,10.8954305 8,12 C8,13.1045695 7.1045695,14 6,14 C4.8954305,14 4,13.1045695 4,12 C4,10.8954305 4.8954305,10 6,10 Z M12,10 C13.1045695,10 14,10.8954305 14,12 C14,13.1045695 13.1045695,14 12,14 C10.8954305,14 10,13.1045695 10,12 C10,10.8954305 10.8954305,10 12,10 Z M18,10 C19.1045695,10 20,10.8954305 20,12 C20,13.1045695 19.1045695,14 18,14 C16.8954305,14 16,13.1045695 16,12 C16,10.8954305 16.8954305,10 18,10 Z\"></path></svg></i></span></button></div></div></div></footer><hr class=\"Divider Divider--mediumMargin\" role=\"presentation\"/></section></article>\n"
     ]
    }
   ],
   "source": [
    "book_tags_ = doc.find_all('article', class_ = \"ReviewCard\")\n",
    "print(book_tags_[0])"
   ]
  },
  {
   "cell_type": "code",
   "execution_count": 9,
   "metadata": {},
   "outputs": [
    {
     "name": "stdout",
     "output_type": "stream",
     "text": [
      "<span aria-label=\"Rating 3 out of 5\" class=\"RatingStars RatingStars__small\" role=\"img\"><span class=\"baseClass RatingStar--small\"><svg role=\"presentation\" viewbox=\"0 0 24 24\"><path class=\"RatingStar__fill\" d=\"M24 9.63469C24 9.35683 23.7747 9.13158 23.4969 9.13158H15.0892L12.477 1.34327C12.4269 1.19375 12.3095 1.0764 12.16 1.02625C11.8966 0.937894 11.6114 1.07983 11.523 1.34327L8.91088 9.13158H0.503157C0.33975 9.13158 0.186521 9.21094 0.0922364 9.3444C-0.0680877 9.57134 -0.0140806 9.88529 0.212865 10.0456L7.00408 14.8432L4.40172 22.6166C4.35092 22.7683 4.37534 22.9352 4.46749 23.066C4.6275 23.2932 4.94137 23.3476 5.16853 23.1876L12 18.3758L18.8317 23.183C18.9625 23.2751 19.1293 23.2994 19.281 23.2486C19.5445 23.1604 19.6865 22.8752 19.5983 22.6117L16.996 14.8432L23.7872 10.0456C23.9206 9.95133 24 9.7981 24 9.63469Z\"></path></svg></span><span class=\"baseClass RatingStar--small\"><svg role=\"presentation\" viewbox=\"0 0 24 24\"><path class=\"RatingStar__fill\" d=\"M24 9.63469C24 9.35683 23.7747 9.13158 23.4969 9.13158H15.0892L12.477 1.34327C12.4269 1.19375 12.3095 1.0764 12.16 1.02625C11.8966 0.937894 11.6114 1.07983 11.523 1.34327L8.91088 9.13158H0.503157C0.33975 9.13158 0.186521 9.21094 0.0922364 9.3444C-0.0680877 9.57134 -0.0140806 9.88529 0.212865 10.0456L7.00408 14.8432L4.40172 22.6166C4.35092 22.7683 4.37534 22.9352 4.46749 23.066C4.6275 23.2932 4.94137 23.3476 5.16853 23.1876L12 18.3758L18.8317 23.183C18.9625 23.2751 19.1293 23.2994 19.281 23.2486C19.5445 23.1604 19.6865 22.8752 19.5983 22.6117L16.996 14.8432L23.7872 10.0456C23.9206 9.95133 24 9.7981 24 9.63469Z\"></path></svg></span><span class=\"baseClass RatingStar--small\"><svg role=\"presentation\" viewbox=\"0 0 24 24\"><path class=\"RatingStar__fill\" d=\"M24 9.63469C24 9.35683 23.7747 9.13158 23.4969 9.13158H15.0892L12.477 1.34327C12.4269 1.19375 12.3095 1.0764 12.16 1.02625C11.8966 0.937894 11.6114 1.07983 11.523 1.34327L8.91088 9.13158H0.503157C0.33975 9.13158 0.186521 9.21094 0.0922364 9.3444C-0.0680877 9.57134 -0.0140806 9.88529 0.212865 10.0456L7.00408 14.8432L4.40172 22.6166C4.35092 22.7683 4.37534 22.9352 4.46749 23.066C4.6275 23.2932 4.94137 23.3476 5.16853 23.1876L12 18.3758L18.8317 23.183C18.9625 23.2751 19.1293 23.2994 19.281 23.2486C19.5445 23.1604 19.6865 22.8752 19.5983 22.6117L16.996 14.8432L23.7872 10.0456C23.9206 9.95133 24 9.7981 24 9.63469Z\"></path></svg></span><span class=\"baseClass RatingStar--small\"><svg role=\"presentation\" viewbox=\"0 0 24 24\"><defs><clippath id=\"clip_RatingStar_undefined0small\"><path d=\"M24 9.63469C24 9.35683 23.7747 9.13158 23.4969 9.13158H15.0892L12.477 1.34327C12.4269 1.19375 12.3095 1.0764 12.16 1.02625C11.8966 0.937894 11.6114 1.07983 11.523 1.34327L8.91088 9.13158H0.503157C0.33975 9.13158 0.186521 9.21094 0.0922364 9.3444C-0.0680877 9.57134 -0.0140806 9.88529 0.212865 10.0456L7.00408 14.8432L4.40172 22.6166C4.35092 22.7683 4.37534 22.9352 4.46749 23.066C4.6275 23.2932 4.94137 23.3476 5.16853 23.1876L12 18.3758L18.8317 23.183C18.9625 23.2751 19.1293 23.2994 19.281 23.2486C19.5445 23.1604 19.6865 22.8752 19.5983 22.6117L16.996 14.8432L23.7872 10.0456C23.9206 9.95133 24 9.7981 24 9.63469Z\"></path></clippath><path d=\"M24 9.63469C24 9.35683 23.7747 9.13158 23.4969 9.13158H15.0892L12.477 1.34327C12.4269 1.19375 12.3095 1.0764 12.16 1.02625C11.8966 0.937894 11.6114 1.07983 11.523 1.34327L8.91088 9.13158H0.503157C0.33975 9.13158 0.186521 9.21094 0.0922364 9.3444C-0.0680877 9.57134 -0.0140806 9.88529 0.212865 10.0456L7.00408 14.8432L4.40172 22.6166C4.35092 22.7683 4.37534 22.9352 4.46749 23.066C4.6275 23.2932 4.94137 23.3476 5.16853 23.1876L12 18.3758L18.8317 23.183C18.9625 23.2751 19.1293 23.2994 19.281 23.2486C19.5445 23.1604 19.6865 22.8752 19.5983 22.6117L16.996 14.8432L23.7872 10.0456C23.9206 9.95133 24 9.7981 24 9.63469Z\" id=\"path_RatingStar_undefined0small\"></path></defs><use class=\"RatingStar__backgroundFill\" clip-path=\"url(#clip_RatingStar_undefined0small)\" href=\"#path_RatingStar_undefined0small\"></use><path class=\"RatingStar__fill\"></path></svg></span><span class=\"baseClass RatingStar--small\"><svg role=\"presentation\" viewbox=\"0 0 24 24\"><defs><clippath id=\"clip_RatingStar_undefined-1small\"><path d=\"M24 9.63469C24 9.35683 23.7747 9.13158 23.4969 9.13158H15.0892L12.477 1.34327C12.4269 1.19375 12.3095 1.0764 12.16 1.02625C11.8966 0.937894 11.6114 1.07983 11.523 1.34327L8.91088 9.13158H0.503157C0.33975 9.13158 0.186521 9.21094 0.0922364 9.3444C-0.0680877 9.57134 -0.0140806 9.88529 0.212865 10.0456L7.00408 14.8432L4.40172 22.6166C4.35092 22.7683 4.37534 22.9352 4.46749 23.066C4.6275 23.2932 4.94137 23.3476 5.16853 23.1876L12 18.3758L18.8317 23.183C18.9625 23.2751 19.1293 23.2994 19.281 23.2486C19.5445 23.1604 19.6865 22.8752 19.5983 22.6117L16.996 14.8432L23.7872 10.0456C23.9206 9.95133 24 9.7981 24 9.63469Z\"></path></clippath><path d=\"M24 9.63469C24 9.35683 23.7747 9.13158 23.4969 9.13158H15.0892L12.477 1.34327C12.4269 1.19375 12.3095 1.0764 12.16 1.02625C11.8966 0.937894 11.6114 1.07983 11.523 1.34327L8.91088 9.13158H0.503157C0.33975 9.13158 0.186521 9.21094 0.0922364 9.3444C-0.0680877 9.57134 -0.0140806 9.88529 0.212865 10.0456L7.00408 14.8432L4.40172 22.6166C4.35092 22.7683 4.37534 22.9352 4.46749 23.066C4.6275 23.2932 4.94137 23.3476 5.16853 23.1876L12 18.3758L18.8317 23.183C18.9625 23.2751 19.1293 23.2994 19.281 23.2486C19.5445 23.1604 19.6865 22.8752 19.5983 22.6117L16.996 14.8432L23.7872 10.0456C23.9206 9.95133 24 9.7981 24 9.63469Z\" id=\"path_RatingStar_undefined-1small\"></path></defs><use class=\"RatingStar__backgroundFill\" clip-path=\"url(#clip_RatingStar_undefined-1small)\" href=\"#path_RatingStar_undefined-1small\"></use><path class=\"RatingStar__fill\"></path></svg></span></span>\n"
     ]
    }
   ],
   "source": [
    "#Working Copy- Ratings Pulls all 25 on Page; Next Steps iterate through rest of page\n",
    "# Separate booktags for Ratings\n",
    "book_tags_ = doc.find_all('span', class_ = \"RatingStars RatingStars__small\") # [\"aria-label\"])\n",
    "print(book_tags_[0])\n",
    "\n",
    "\n",
    "ratings = []\n",
    "\n",
    "# Loop through all elements found\n",
    "for tag in book_tags_:\n",
    "    # Get the aria-label attribute from the current element\n",
    "    aria_label = tag.get('aria-label')\n",
    "    \n",
    "    # Check if aria-label is not None and contains the expected format\n",
    "    if aria_label and 'Rating ' in aria_label and ' out of 5' in aria_label:\n",
    "        # Split the aria-label to extract the desired text\n",
    "        rating_text = aria_label.split('Rating ')[1].split(' out of 5')[0]\n",
    "        \n",
    "        # Append the rating_text to the list of ratings\n",
    "        ratings.append(rating_text)\n",
    "    else:\n",
    "        print(f\"Skipping element with aria-label: {aria_label}\")\n",
    "\n",
    "# Create a dataframe from the list of ratings\n",
    "df = pd.DataFrame({'Rating': ratings})"
   ]
  },
  {
   "cell_type": "code",
   "execution_count": 10,
   "metadata": {},
   "outputs": [
    {
     "name": "stdout",
     "output_type": "stream",
     "text": [
      "<article aria-label=\"Review by Debbie\" class=\"ReviewCard\"><div class=\"ReviewCard__profile\"><div class=\"ReviewerProfile ReviewerProfile--medium\"><section class=\"ReviewerProfile__avatar\"><a as=\"div\" class=\"Avatar Avatar--medium\" href=\"https://www.goodreads.com/user/show/8665845-debbie\"><img alt=\"Profile Image for Debbie.\" class=\"Avatar__image\" data-testid=\"image\" src=\"https://i.gr-assets.com/images/S/compressed.photo.goodreads.com/users/1334166735i/8665845._UY200_CR33,0,200,200_.jpg\"/></a></section><section class=\"ReviewerProfile__info\"><span class=\"Text Text__title4\"><div class=\"ReviewerProfile__name\" data-testid=\"name\"><a href=\"https://www.goodreads.com/user/show/8665845-debbie\">Debbie</a></div></span><span class=\"Text Text__body3 Text__subdued\"><div class=\"ReviewerProfile__meta\"><span>479 reviews</span><span><span>3,622 followers</span></span></div></span></section><div class=\"ReviewerProfile__follow\" data-testid=\"follow\"></div></div></div><section class=\"ReviewCard__content\"><section class=\"ReviewCard__row\"><div class=\"ShelfStatus\"><span aria-label=\"Rating 3 out of 5\" class=\"RatingStars RatingStars__small\" role=\"img\"><span class=\"baseClass RatingStar--small\"><svg role=\"presentation\" viewbox=\"0 0 24 24\"><path class=\"RatingStar__fill\" d=\"M24 9.63469C24 9.35683 23.7747 9.13158 23.4969 9.13158H15.0892L12.477 1.34327C12.4269 1.19375 12.3095 1.0764 12.16 1.02625C11.8966 0.937894 11.6114 1.07983 11.523 1.34327L8.91088 9.13158H0.503157C0.33975 9.13158 0.186521 9.21094 0.0922364 9.3444C-0.0680877 9.57134 -0.0140806 9.88529 0.212865 10.0456L7.00408 14.8432L4.40172 22.6166C4.35092 22.7683 4.37534 22.9352 4.46749 23.066C4.6275 23.2932 4.94137 23.3476 5.16853 23.1876L12 18.3758L18.8317 23.183C18.9625 23.2751 19.1293 23.2994 19.281 23.2486C19.5445 23.1604 19.6865 22.8752 19.5983 22.6117L16.996 14.8432L23.7872 10.0456C23.9206 9.95133 24 9.7981 24 9.63469Z\"></path></svg></span><span class=\"baseClass RatingStar--small\"><svg role=\"presentation\" viewbox=\"0 0 24 24\"><path class=\"RatingStar__fill\" d=\"M24 9.63469C24 9.35683 23.7747 9.13158 23.4969 9.13158H15.0892L12.477 1.34327C12.4269 1.19375 12.3095 1.0764 12.16 1.02625C11.8966 0.937894 11.6114 1.07983 11.523 1.34327L8.91088 9.13158H0.503157C0.33975 9.13158 0.186521 9.21094 0.0922364 9.3444C-0.0680877 9.57134 -0.0140806 9.88529 0.212865 10.0456L7.00408 14.8432L4.40172 22.6166C4.35092 22.7683 4.37534 22.9352 4.46749 23.066C4.6275 23.2932 4.94137 23.3476 5.16853 23.1876L12 18.3758L18.8317 23.183C18.9625 23.2751 19.1293 23.2994 19.281 23.2486C19.5445 23.1604 19.6865 22.8752 19.5983 22.6117L16.996 14.8432L23.7872 10.0456C23.9206 9.95133 24 9.7981 24 9.63469Z\"></path></svg></span><span class=\"baseClass RatingStar--small\"><svg role=\"presentation\" viewbox=\"0 0 24 24\"><path class=\"RatingStar__fill\" d=\"M24 9.63469C24 9.35683 23.7747 9.13158 23.4969 9.13158H15.0892L12.477 1.34327C12.4269 1.19375 12.3095 1.0764 12.16 1.02625C11.8966 0.937894 11.6114 1.07983 11.523 1.34327L8.91088 9.13158H0.503157C0.33975 9.13158 0.186521 9.21094 0.0922364 9.3444C-0.0680877 9.57134 -0.0140806 9.88529 0.212865 10.0456L7.00408 14.8432L4.40172 22.6166C4.35092 22.7683 4.37534 22.9352 4.46749 23.066C4.6275 23.2932 4.94137 23.3476 5.16853 23.1876L12 18.3758L18.8317 23.183C18.9625 23.2751 19.1293 23.2994 19.281 23.2486C19.5445 23.1604 19.6865 22.8752 19.5983 22.6117L16.996 14.8432L23.7872 10.0456C23.9206 9.95133 24 9.7981 24 9.63469Z\"></path></svg></span><span class=\"baseClass RatingStar--small\"><svg role=\"presentation\" viewbox=\"0 0 24 24\"><defs><clippath id=\"clip_RatingStar_undefined0small\"><path d=\"M24 9.63469C24 9.35683 23.7747 9.13158 23.4969 9.13158H15.0892L12.477 1.34327C12.4269 1.19375 12.3095 1.0764 12.16 1.02625C11.8966 0.937894 11.6114 1.07983 11.523 1.34327L8.91088 9.13158H0.503157C0.33975 9.13158 0.186521 9.21094 0.0922364 9.3444C-0.0680877 9.57134 -0.0140806 9.88529 0.212865 10.0456L7.00408 14.8432L4.40172 22.6166C4.35092 22.7683 4.37534 22.9352 4.46749 23.066C4.6275 23.2932 4.94137 23.3476 5.16853 23.1876L12 18.3758L18.8317 23.183C18.9625 23.2751 19.1293 23.2994 19.281 23.2486C19.5445 23.1604 19.6865 22.8752 19.5983 22.6117L16.996 14.8432L23.7872 10.0456C23.9206 9.95133 24 9.7981 24 9.63469Z\"></path></clippath><path d=\"M24 9.63469C24 9.35683 23.7747 9.13158 23.4969 9.13158H15.0892L12.477 1.34327C12.4269 1.19375 12.3095 1.0764 12.16 1.02625C11.8966 0.937894 11.6114 1.07983 11.523 1.34327L8.91088 9.13158H0.503157C0.33975 9.13158 0.186521 9.21094 0.0922364 9.3444C-0.0680877 9.57134 -0.0140806 9.88529 0.212865 10.0456L7.00408 14.8432L4.40172 22.6166C4.35092 22.7683 4.37534 22.9352 4.46749 23.066C4.6275 23.2932 4.94137 23.3476 5.16853 23.1876L12 18.3758L18.8317 23.183C18.9625 23.2751 19.1293 23.2994 19.281 23.2486C19.5445 23.1604 19.6865 22.8752 19.5983 22.6117L16.996 14.8432L23.7872 10.0456C23.9206 9.95133 24 9.7981 24 9.63469Z\" id=\"path_RatingStar_undefined0small\"></path></defs><use class=\"RatingStar__backgroundFill\" clip-path=\"url(#clip_RatingStar_undefined0small)\" href=\"#path_RatingStar_undefined0small\"></use><path class=\"RatingStar__fill\"></path></svg></span><span class=\"baseClass RatingStar--small\"><svg role=\"presentation\" viewbox=\"0 0 24 24\"><defs><clippath id=\"clip_RatingStar_undefined-1small\"><path d=\"M24 9.63469C24 9.35683 23.7747 9.13158 23.4969 9.13158H15.0892L12.477 1.34327C12.4269 1.19375 12.3095 1.0764 12.16 1.02625C11.8966 0.937894 11.6114 1.07983 11.523 1.34327L8.91088 9.13158H0.503157C0.33975 9.13158 0.186521 9.21094 0.0922364 9.3444C-0.0680877 9.57134 -0.0140806 9.88529 0.212865 10.0456L7.00408 14.8432L4.40172 22.6166C4.35092 22.7683 4.37534 22.9352 4.46749 23.066C4.6275 23.2932 4.94137 23.3476 5.16853 23.1876L12 18.3758L18.8317 23.183C18.9625 23.2751 19.1293 23.2994 19.281 23.2486C19.5445 23.1604 19.6865 22.8752 19.5983 22.6117L16.996 14.8432L23.7872 10.0456C23.9206 9.95133 24 9.7981 24 9.63469Z\"></path></clippath><path d=\"M24 9.63469C24 9.35683 23.7747 9.13158 23.4969 9.13158H15.0892L12.477 1.34327C12.4269 1.19375 12.3095 1.0764 12.16 1.02625C11.8966 0.937894 11.6114 1.07983 11.523 1.34327L8.91088 9.13158H0.503157C0.33975 9.13158 0.186521 9.21094 0.0922364 9.3444C-0.0680877 9.57134 -0.0140806 9.88529 0.212865 10.0456L7.00408 14.8432L4.40172 22.6166C4.35092 22.7683 4.37534 22.9352 4.46749 23.066C4.6275 23.2932 4.94137 23.3476 5.16853 23.1876L12 18.3758L18.8317 23.183C18.9625 23.2751 19.1293 23.2994 19.281 23.2486C19.5445 23.1604 19.6865 22.8752 19.5983 22.6117L16.996 14.8432L23.7872 10.0456C23.9206 9.95133 24 9.7981 24 9.63469Z\" id=\"path_RatingStar_undefined-1small\"></path></defs><use class=\"RatingStar__backgroundFill\" clip-path=\"url(#clip_RatingStar_undefined-1small)\" href=\"#path_RatingStar_undefined-1small\"></use><path class=\"RatingStar__fill\"></path></svg></span></span></div><span class=\"Text Text__body3\"><a href=\"https://www.goodreads.com/review/show/1532579595\">March 29, 2018</a></span></section><section class=\"ReviewText\"><section class=\"ReviewText__content\" dir=\"auto\"><div class=\"TruncatedContent\" tabindex=\"-1\"><div class=\"TruncatedContent__text TruncatedContent__text--large\" data-testid=\"contentContainer\" tabindex=\"-1\"><span class=\"Formatted\">Really torn about this one. On the one hand, this is an amazingly honest account of Roxane Gay's life with an unruly body, as she calls it, which developed after she was gang raped at 12. She ate and ate so that she could get big enough to build a fortress around herself.<br/><br/>On the other hand, the book fell short for me. It was repetitive, for one, although I do think some of the repetition was purposeful--a stylistic choice. The language, to me, was dull. Plus there was nothing new on the subject of obesity or the politics surrounding it. The tone was understated--some anger and sadness underlying her words--yet at the same time it felt strangely unemotional. I didn't feel attached. But I will cut her all the slack in the world. She is revealing who she is, the struggles she has had--who am I to criticize the way she tells her story?<br/><br/>Racism, body shaming, and feminism are all touched upon, but the real story is about how the persistent PTSD led to loneliness, shame, hunger (of more than just food), and her weight problem. <br/><br/>She expresses a sort of quiet anger about the way obese people are perceived and treated. Gay has had to learn to live with her large body, which is on display to the world. She has had to navigate physically through a land that can't accommodate her size in many ways. Chairs are too small, for example, and if the chair has arms, watch out—they can give her bruises. Her body size makes everything hard. Short walks are too long and painful, stares are too hurtful, conversations are strained. Her recounting of endless humiliations is heartbreaking. Learning about the indignities the author has had to endure made me examine how I think of my body and others’. <br/><br/>As I said, most of what she said about obesity I already knew and almost all of the feelings that go with being overweight have been talked about before. However, her theme is groundbreaking in this way: Instead of talking about her food addiction, she talks about her body. It’s the first time I’ve heard the subject discussed solely from the point of view of body image. Seldom do people talk about their body. They talk about addiction and their difficulty in overcoming it. They talk about shame, self-control, self-loathing (which are all things that an unruly big body cause), but they don’t talk about how PTSD can change one’s body. In the past, I might have thought of PTSD as only affecting the head. Here we see how it blew away not only mind, but also her body. Eating allowed her to create a needed fortress while giving her comfort.<br/><br/>I found her description of getting a tattoo fascinating. And she shed some new light on the subject of bulimia. Her descriptions of her humiliations were the most vivid and well-described. When she got into general non-fiction rhetoric, my interest waned. I wanted everything to be first person. <br/><br/>Gang raped at 12. At 12! How do you survive that psychologically? The damage from the brutal attack will never disappear. She's in her 40s now, and she still thinks of her attackers, sometimes obsessing about the ringleader, who she thought was her friend. It is impossible to put myself in her shoes; what she endured is unimaginable. But one thing is sure--an experience like this will mess with your head in ways I can't begin to comprehend. <br/><br/>Gay's story is a sad one, but she isn't throwing a pity party. She just wants to be understood, and she gets kudos for her bravery in revealing such personal information, for showing her underbelly. I'm thinking that writing this was probably therapeutic for her. <br/><br/>How do you rate a memoir? Especially one where the author makes herself so vulnerable? I must remember that I'm not rating her life, just the way she tells her story. I admire Gay’s brilliance, bravery, and life, and I will continue to get my hands on everything she writes.<br/><br/>I wanted to love this one, I really did, especially since Gay's novel <a href=\"https://goodreads.com/book/show/18467818.An_Untamed_State\" rel=\"noopener\" title=\"An Untamed State by Roxane Gay\">An Untamed State</a> is one of my all-time favorites. No dull language in that one. It still haunts me. The novel was based on her experience of gang rape. I felt it was a way more powerful book than this memoir, but I'm not at all sorry I read this book. I liked it, just didn't love it.</span></div><div class=\"\"></div></div></section></section><section class=\"ReviewCard__tags\"><ul class=\"CollapsableList\"><span tabindex=\"-1\"><a class=\"Button Button--tag Button--medium\" href=\"https://www.goodreads.com/review/list/8665845?shelf=black-writers\"><span class=\"Button__labelItem\">black-writers</span></a><span tabindex=\"-1\"> </span><a class=\"Button Button--tag Button--medium\" href=\"https://www.goodreads.com/review/list/8665845?shelf=cool-chicks\"><span class=\"Button__labelItem\">cool-chicks</span></a><span tabindex=\"-1\"> </span><a class=\"Button Button--tag Button--medium\" href=\"https://www.goodreads.com/review/list/8665845?shelf=lgbtq\"><span class=\"Button__labelItem\">lgbtq</span></a></span><span tabindex=\"-1\"></span> <div class=\"Button__container\"><button aria-label=\"Show all items in the list\" class=\"Button Button--tag Button--medium\" type=\"button\"><span class=\"Button__labelItem\">...more</span></button></div></ul></section><footer class=\"SocialFooter\"><div class=\"SocialFooter__statsContainer\" data-testid=\"stats\"><div class=\"Button__container\"><button class=\"Button Button--inline Button--medium Button--subdued\" type=\"button\"><span class=\"Button__labelItem\">771 likes</span></button></div><div class=\"Button__container\"><button class=\"Button Button--inline Button--medium Button--subdued\" type=\"button\"><span class=\"Button__labelItem\">3 comments</span></button></div></div><div data-testid=\"actions\"><div class=\"SocialFooter__action\"><div class=\"Button__container\"><button aria-label=\"Review unliked. Press to like review\" class=\"Button Button--inline Button--medium\" type=\"button\"><span class=\"Button__labelItem\"><i class=\"Icon LikeIcon\"><svg viewbox=\"0 0 24 24\"><path d=\"M14.4813282,6.41129383 L14.586127,6.97676447 C14.5964421,7.03541935 14.6071117,7.09675198 14.6181364,7.1607667 L14.8551301,8.60363442 L17.440983,8.60363442 C18.1623576,8.60363442 18.8218187,9.01120377 19.1444272,9.65642083 L19.1708204,9.70920723 C19.4523479,10.2722622 19.4523479,10.9350066 19.1708204,11.4980616 L19.118034,11.6036344 L19.1708204,11.7092072 C19.4523479,12.2722622 19.4523479,12.9350066 19.1708204,13.4980616 L19.118034,13.6036344 L19.1708204,13.7092072 C19.4523479,14.2722622 19.4523479,14.9350066 19.1708204,15.4980616 L19,15.8397024 L19,16.1036344 C19,16.7361314 18.6701344,17.3185188 18.1373501,17.6453922 L17.9472136,17.7480616 C17.4795438,17.9818965 16.9638538,18.1036344 16.440983,18.1036344 L9.66834148,18.1034086 C9.31027068,18.6437214 8.696742,19 8,19 L6,19 C4.8954305,19 4,18.1045695 4,17 L4,12 C4,10.8954305 4.8954305,10 6,10 L8,10 C8.60249245,10 9.14276174,10.2664091 9.50943372,10.6878531 L9.58578644,10.6036344 L11,9.18942086 L11,6.75238209 C10.9999468,5.91477784 11.5910613,5.19356674 12.4123594,5.02913493 C13.3640475,4.8385978 14.290004,5.45563256 14.4813282,6.41129383 Z M8,11 L6,11 C5.44771525,11 5,11.4477153 5,12 L5,17 C5,17.5522847 5.44771525,18 6,18 L8,18 C8.55228475,18 9,17.5522847 9,17 L9,12 C9,11.4477153 8.55228475,11 8,11 Z M12.6086732,6.00967606 C12.2547259,6.08053973 11.9999771,6.39134718 12,6.75231863 L12,9.60363442 L10.2928932,11.3107412 L10.2060806,11.4098185 C10.0731645,11.583364 10,11.7968342 10,12.017848 L10,17.1036344 L16.440983,17.1036344 L16.6607228,17.0934175 C16.9522889,17.0662447 17.2369485,16.9851602 17.5,16.8536344 L17.5527864,16.8272412 L17.6506941,16.7693715 C17.8674461,16.6197561 18,16.3717633 18,16.1036344 L18,15.8397024 L18.0067325,15.7238578 C18.0201527,15.6087919 18.053502,15.4966304 18.1055728,15.3924888 L18.2763932,15.050848 L18.3281023,14.9274323 C18.4142842,14.67566 18.3970478,14.3977301 18.2763932,14.1564208 L18.2236068,14.050848 L18.1718977,13.9274323 C18.0857158,13.67566 18.1029522,13.3977301 18.2236068,13.1564208 L18.2763932,13.050848 L18.3281023,12.9274323 C18.4142842,12.67566 18.3970478,12.3977301 18.2763932,12.1564208 L18.2236068,12.050848 L18.1718977,11.9274323 C18.0857158,11.67566 18.1029522,11.3977301 18.2236068,11.1564208 L18.2763932,11.050848 L18.3281023,10.9274323 C18.4142842,10.67566 18.3970478,10.3977301 18.2763932,10.1564208 L18.25,10.1036344 L18.1931817,10.005781 C18.0268209,9.75657623 17.7455186,9.60363442 17.440983,9.60363442 L14,9.60363442 L13.6620695,7.50273613 C13.6377651,7.35933353 13.6150821,7.22808389 13.5940207,7.10898721 L13.5,6.60363442 L13.473045,6.50421954 C13.3512969,6.1515805 12.9846442,5.93440304 12.6086732,6.00967606 Z\"></path></svg></i></span><span class=\"Button__labelItem\">Like</span></button></div></div><div class=\"SocialFooter__action\"><div class=\"Button__container\"><button class=\"Button Button--inline Button--medium\" type=\"button\"><span class=\"Button__labelItem\"><i class=\"Icon CommentIcon\"><svg viewbox=\"0 0 24 24\"><path d=\"M12,17 C12.7131011,17 13.4012974,16.9086027 14.0495143,16.7387293 C14.5467025,16.6084349 15.8635311,17.1955251 18,18.5 L17.8664995,17.9551149 C17.4092673,16.0317788 17.3069991,14.928779 17.5596949,14.6461156 C18.4631295,13.6355413 19,12.3715104 19,11 C19,7.6862915 15.8659932,5 12,5 C8.13400675,5 5,7.6862915 5,11 C5,14.3137085 8.13400675,17 12,17 Z M13.796012,15.7713945 C13.2202627,15.9222769 12.6169095,16 12,16 C8.65501663,16 6,13.7242715 6,11 C6,8.27572854 8.65501663,6 12,6 C15.3449834,6 18,8.27572854 18,11 C18,12.0842731 17.5831655,13.1194459 16.8141738,13.9796336 C16.416188,14.4248172 16.3323351,15.1207601 16.5018219,16.2746263 L16.539079,16.5115665 C15.2664214,15.853575 14.4145404,15.6093014 13.796012,15.7713945 Z\"></path></svg></i></span><span class=\"Button__labelItem\"> Comment</span></button></div></div><div class=\"SocialFooter__action\" data-testid=\"overflow\"><div class=\"Button__container\"><button aria-label=\"More options, Menu pop up\" class=\"Button Button--transparent Button--medium Button--rounded\" type=\"button\"><span class=\"Button__labelItem\"><i class=\"Icon MoreIcon\"><svg viewbox=\"0 0 24 24\" xmlns=\"http://www.w3.org/2000/svg\"><path d=\"M6,10 C7.1045695,10 8,10.8954305 8,12 C8,13.1045695 7.1045695,14 6,14 C4.8954305,14 4,13.1045695 4,12 C4,10.8954305 4.8954305,10 6,10 Z M12,10 C13.1045695,10 14,10.8954305 14,12 C14,13.1045695 13.1045695,14 12,14 C10.8954305,14 10,13.1045695 10,12 C10,10.8954305 10.8954305,10 12,10 Z M18,10 C19.1045695,10 20,10.8954305 20,12 C20,13.1045695 19.1045695,14 18,14 C16.8954305,14 16,13.1045695 16,12 C16,10.8954305 16.8954305,10 18,10 Z\"></path></svg></i></span></button></div></div></div></footer><hr class=\"Divider Divider--mediumMargin\" role=\"presentation\"/></section></article>\n"
     ]
    }
   ],
   "source": [
    "#Working Copy- Reviewer Pulls all 25 on Page; Next Steps iterate through rest of page\n",
    "# Separate booktags for ReviewerName\n",
    "#Pulls 29 names\n",
    "book_tags_ = doc.find_all('article', class_ = \"ReviewCard\") # [\"aria-label\"]) #ReviewCard\n",
    "print(book_tags_[0])\n",
    "#book_tags_ = doc.find_all('div', class_ = \"ReviewerProfile__name\")\n",
    "#^Above code pulls below result as alternative approach\n",
    "#<div class=\"ReviewerProfile__name\" data-testid=\"name\"><a href=\"https://www.goodreads.com/user/show/2190064-nenia-i-yeet-my-books-back-and-forth-campbell\">Nenia ✨ I yeet my books back and forth ✨ Campbell</a></div>\n",
    "#Could be more useful in terms of guaranteeing not doublecounting individuals by validating on user account URL\n",
    "\n",
    "Reviewer = []\n",
    "\n",
    "# Loop through all elements found\n",
    "for tag in book_tags_:\n",
    "    # Get the aria-label attribute from the current element\n",
    "    aria_label = tag.get('aria-label')\n",
    "    \n",
    "    # Check if aria-label is not None and contains the expected format\n",
    "    if aria_label and 'Review by ' in aria_label:\n",
    "        # Split the aria-label to extract the desired text\n",
    "        Reviewer_text = aria_label.split('Review by ')[1]\n",
    "        \n",
    "        # Append the Reviewer_text to the list of ratings\n",
    "        Reviewer.append(Reviewer_text)\n",
    "    else:\n",
    "        print(f\"Skipping element with aria-label: {aria_label}\")\n",
    "\n",
    "# Create a dataframe from the list of ratings\n",
    "df = pd.DataFrame({'ReviewerName': Reviewer})"
   ]
  },
  {
   "cell_type": "code",
   "execution_count": 11,
   "metadata": {},
   "outputs": [
    {
     "name": "stdout",
     "output_type": "stream",
     "text": [
      "            ReviewDate\n",
      "0       March 29, 2018\n",
      "1     February 5, 2018\n",
      "2      October 6, 2014\n",
      "3        July 28, 2017\n",
      "4       August 8, 2021\n",
      "5        June 28, 2019\n",
      "6        June 12, 2017\n",
      "7    February 26, 2018\n",
      "8        July 14, 2017\n",
      "9     November 1, 2021\n",
      "10    October 12, 2017\n",
      "11       July 12, 2017\n",
      "12        June 2, 2020\n",
      "13    February 5, 2019\n",
      "14       June 19, 2017\n",
      "15      April 20, 2020\n",
      "16       June 28, 2017\n",
      "17  September 12, 2023\n",
      "18     October 4, 2018\n",
      "19       June 28, 2017\n",
      "20      March 19, 2018\n",
      "21       April 3, 2021\n",
      "22      April 16, 2024\n",
      "23   November 21, 2021\n",
      "24       June 13, 2022\n",
      "25      August 7, 2017\n",
      "26      March 10, 2021\n",
      "27     January 8, 2019\n",
      "28    December 1, 2019\n",
      "29       July 25, 2017\n"
     ]
    }
   ],
   "source": [
    "#Working Copy_Generating ReviewDate- Ratings Pulls all 25 on Page; Next Steps iterate through rest of page\n",
    "#Pulls different count-Also looks at different pull of Book_tags_\n",
    "reviewdt = []\n",
    "book_tags_ = doc.find_all('span', class_=\"Text Text__body3\")\n",
    "\n",
    "# Initialize an empty list to store the text content\n",
    "texts = []\n",
    "\n",
    "# Loop through all elements found\n",
    "for tag in book_tags_:\n",
    "    # Get the text content from the current element\n",
    "    reviewdt_content = tag.get_text(strip=True)\n",
    "    \n",
    "    # Append the text_content to the list of texts\n",
    "    reviewdt.append(reviewdt_content)\n",
    "\n",
    "# Create a dataframe from the list of texts\n",
    "df = pd.DataFrame({'ReviewDate': reviewdt})\n",
    "\n",
    "# Print or do further processing with the dataframe\n",
    "print(df)\n"
   ]
  },
  {
   "cell_type": "code",
   "execution_count": 12,
   "metadata": {},
   "outputs": [
    {
     "name": "stdout",
     "output_type": "stream",
     "text": [
      "                                           ReviewText\n",
      "0   Really torn about this one. On the one hand, t...\n",
      "1   People see bodies like mine and make their ass...\n",
      "2   I haven't written this yet but it will be okay...\n",
      "3   This book is inoculated from too much criticis...\n",
      "4   I cannot jump on the bandwagon of this being a...\n",
      "5   “I do not want pity or appreciation or advice....\n",
      "6   Beautifully written....Tender, poignant and co...\n",
      "7   I want to give this a million stars. I want to...\n",
      "8   I finishedHungerfive hours ago and still feel ...\n",
      "9   The fact that this book exists is such a godda...\n",
      "10  I am of two minds about this book.Firstly, Rox...\n",
      "11  Listening to Roxanne Gay read her memoir, Hung...\n",
      "12                      really hard & really powerful\n",
      "13  This was a hard read. So important and so genu...\n",
      "14  The thing I always admire about Roxane Gay's w...\n",
      "15  In understated but moving prose, Roxane Gay re...\n",
      "16  Roxane Gay is a National treasure.Hunger by Ro...\n",
      "17                                               woah\n",
      "18  I'm reviewing this for another venue, and ther...\n",
      "19  This is the memoir I will compare all other me...\n",
      "20  Update: I had to share Roxane'sinterviewon the...\n",
      "21  What to say about this book? How can one evenr...\n",
      "22  “This is a memoir of (my) body because, more o...\n",
      "23  “This is a memoir of my body because, more oft...\n",
      "24  Poza osobistymi doświadczeniami autorki, jest ...\n",
      "25  Roxane Gay,thank you.Unflinching honesty, ugly...\n",
      "26  دوازده‌ساله که بودم، تعدادى پسر که اهداف خطرنا...\n",
      "27  1.5 ★I have extremely mixed feelings about thi...\n",
      "28  This is riveting. Roxane Gay is a wonderful wr...\n",
      "29  \"Something Terrible Happened\"Whew! Roxane Gay ...\n"
     ]
    }
   ],
   "source": [
    "#Working Copy_Generating ReviewText- ReviewText Pulls all 25 on Page; Next Steps iterate through rest of page\n",
    "#Pulls different count-Also looks at different pull of Book_tags_\n",
    "#Can I clean the junk links from the text? or keep the format?\n",
    "book_tags_ = doc.find_all('span', class_=\"Formatted\")\n",
    "\n",
    "# Initialize an empty list to store the text content\n",
    "ReviewText = []\n",
    "\n",
    "# Loop through all elements found\n",
    "for tag in book_tags_:\n",
    "    # Get the text content from the current element\n",
    "    ReviewText_content = tag.get_text(strip=True)\n",
    "    \n",
    "    # Append the text_content to the list of texts\n",
    "    ReviewText.append(ReviewText_content)\n",
    "\n",
    "# Create a dataframe from the list of texts\n",
    "df = pd.DataFrame({'ReviewText': ReviewText})\n",
    "\n",
    "# Print or do further processing with the dataframe\n",
    "print(df)\n"
   ]
  },
  {
   "cell_type": "code",
   "execution_count": 13,
   "metadata": {},
   "outputs": [],
   "source": [
    "df = pd.DataFrame(columns=['ReviewDate','ReviewerName','Rating','ReviewText','ReviewerMeta'])"
   ]
  },
  {
   "cell_type": "code",
   "execution_count": 14,
   "metadata": {},
   "outputs": [],
   "source": [
    "num_ratings = len(ratings)\n",
    "review_dates = reviewdt[:num_ratings]\n",
    "reviewer_names = Reviewer[:num_ratings]\n",
    "review_texts = ReviewText[:num_ratings]\n",
    "#reviewer_meta = reviewer_meta[:num_ratings]"
   ]
  },
  {
   "cell_type": "code",
   "execution_count": 15,
   "metadata": {},
   "outputs": [],
   "source": [
    "#Fixing length of fields\n",
    "num_ratings = len(ratings)\n",
    "review_dates = reviewdt[:num_ratings]\n",
    "reviewer_names = Reviewer[:num_ratings]\n",
    "review_texts = ReviewText[:num_ratings]\n",
    "#reviewer_meta = reviewer_meta[:num_ratings]\n",
    "\n",
    "data_dict = {\n",
    "    'ReviewDate': review_dates,\n",
    "    'ReviewerName': reviewer_names,\n",
    "    'Rating': ratings,\n",
    "    'ReviewText': review_texts\n",
    "    #'ReviewerMeta': reviewer_meta\n",
    "}"
   ]
  },
  {
   "cell_type": "code",
   "execution_count": 16,
   "metadata": {},
   "outputs": [],
   "source": [
    "test_df = pd.DataFrame(data_dict)\n",
    "df = pd.concat([df, test_df], ignore_index=True)\n",
    "\n",
    "\n",
    "#df. to_csv('McCurdy_Sample_Aug30.csv', index=False)\n",
    "df. to_csv('Roxanne_Gay_Sample_Aug30.csv', index=False) \n"
   ]
  }
 ],
 "metadata": {
  "kernelspec": {
   "display_name": "Python 3",
   "language": "python",
   "name": "python3"
  },
  "language_info": {
   "codemirror_mode": {
    "name": "ipython",
    "version": 3
   },
   "file_extension": ".py",
   "mimetype": "text/x-python",
   "name": "python",
   "nbconvert_exporter": "python",
   "pygments_lexer": "ipython3",
   "version": "3.12.3"
  }
 },
 "nbformat": 4,
 "nbformat_minor": 2
}
